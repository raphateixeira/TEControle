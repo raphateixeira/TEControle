{
  "cells": [
    {
      "attachments": {},
      "cell_type": "markdown",
      "metadata": {
        "id": "iLzwf6-NSwUa"
      },
      "source": [
        "\n",
        "\n",
        "\n",
        "\n",
        "## Ajuste de uma função por uma rede neural\n",
        "\n",
        "Vamos verificar uma propriedade bem básica de redes neurais, a capacidade de elas aproximarem uma função $f(x)$.\n",
        "\n",
        "Será uma função bem simples $y = x^2$, mas da pra aprender com ela uma série de coisas preliminares."
      ]
    },
    {
      "cell_type": "code",
      "execution_count": 2,
      "metadata": {
        "id": "0DKN2CtTSwUc"
      },
      "outputs": [],
      "source": [
        "# Bibliotecas\n",
        "from sklearn.preprocessing import MinMaxScaler\n",
        "from sklearn.metrics import mean_squared_error\n",
        "from keras.models import Sequential\n",
        "from keras.layers import Dense\n",
        "import numpy as np\n",
        "from matplotlib import pyplot as plt"
      ]
    },
    {
      "attachments": {},
      "cell_type": "markdown",
      "metadata": {
        "id": "rbMe20ajTOyb"
      },
      "source": [
        "## Coleta (geração) de dados\n",
        "\n",
        "Inicialmente coletamos os dados, gerando valores para $x$ e $y$:"
      ]
    },
    {
      "cell_type": "code",
      "execution_count": 3,
      "metadata": {
        "id": "HpuXmVU_SwUd",
        "outputId": "792e6285-c101-4d02-ebdb-bc29014312e4"
      },
      "outputs": [
        {
          "name": "stdout",
          "output_type": "stream",
          "text": [
            "-50 49 0 2500\n"
          ]
        }
      ],
      "source": [
        "# Conjunto de dados:\n",
        "x = np.arange(-50,50)\n",
        "y = x**2\n",
        "print(x.min(), x.max(), y.min(), y.max())\n",
        "# reshape no conjunto de dados\n",
        "x = x.reshape((len(x), 1))\n",
        "y = y.reshape((len(y), 1))"
      ]
    },
    {
      "attachments": {},
      "cell_type": "markdown",
      "metadata": {
        "id": "yG7B5UGhTcKz"
      },
      "source": [
        "## Pré-processamento:\n",
        "\n",
        "Aqui vamos ajustar os dados para uma forma mais adequada ao processamento de uma RNA, uma estratégia boa é normalizar valores de entrada e saída entre 0 e 1, isso pode ser feito pela função MinMaxScaler do pacote SKlearn.\n",
        "\n"
      ]
    },
    {
      "cell_type": "code",
      "execution_count": 4,
      "metadata": {
        "id": "htUo_WgZSwUe",
        "outputId": "cdbe504c-9072-453b-e163-f5279f6909e7"
      },
      "outputs": [
        {
          "name": "stdout",
          "output_type": "stream",
          "text": [
            "0.0 1.0 0.0 1.0\n"
          ]
        }
      ],
      "source": [
        "# Pré-processamento\n",
        "scale_x = MinMaxScaler()\n",
        "x = scale_x.fit_transform(x)\n",
        "scale_y = MinMaxScaler()\n",
        "y = scale_y.fit_transform(y)\n",
        "print(x.min(), x.max(), y.min(), y.max())"
      ]
    },
    {
      "attachments": {},
      "cell_type": "markdown",
      "metadata": {
        "id": "ZNQT81ltT4HR"
      },
      "source": [
        "# A rede neural\n",
        "\n",
        "Agora deve-se pensar na estrutura da rede e codificá-la.\n",
        "\n",
        "Uma RNA é um modelo Sequencial, que pode ser criado pelno Keras conforme segue.\n",
        "\n",
        "A idéia é ir adicionando camadas da rede ao modelo.\n",
        "\n",
        "Aqui cabe estudar a função sequencial, o método add, a camada densa (Dense) e a função de ativacão Relu.\n",
        "\n",
        "No código a rede também é compilada, onde se define a sua função costo (loss) e o otimizador (adam), um google para cada um destes conceitos.\n",
        "\n",
        "Por fun a rede é treinada com o método fit utilizando um certo número de épocas.\n",
        "\n",
        "Recomendo trocar o indicador verbose de 0 para 1 so para ver a evolução do treinamento."
      ]
    },
    {
      "cell_type": "code",
      "execution_count": 8,
      "metadata": {
        "id": "gycjjfcPSwUe",
        "outputId": "0569f517-1714-4706-926a-f66b90569293"
      },
      "outputs": [],
      "source": [
        "# Estrutura da rede neural:\n",
        "model = Sequential()\n",
        "model.add(Dense(10, input_dim=1, activation='relu', kernel_initializer='he_uniform'))\n",
        "model.add(Dense(10, activation='relu', kernel_initializer='he_uniform'))\n",
        "model.add(Dense(1))\n",
        "\n",
        "\n",
        "# Compila: Função custo e otimizador\n",
        "model.compile(loss='mse', optimizer='adam')\n",
        "\n",
        "# Treina a rede neural\n",
        "Historico = model.fit(x, y, epochs=500, batch_size=10, verbose=0)"
      ]
    },
    {
      "attachments": {},
      "cell_type": "markdown",
      "metadata": {
        "id": "AjxAvU5vUvCz"
      },
      "source": [
        "# Validação (ou teste)\n",
        "\n",
        "Aqui, com a rede treinada fazemos predições com o método predict, realizamos o escalonamento inverso nos dados e então mede-se o erro médio quadrático MSE."
      ]
    },
    {
      "cell_type": "code",
      "execution_count": 9,
      "metadata": {
        "id": "-vY-f2nbSwUe",
        "outputId": "ae5d98a2-551e-4a6b-9dfd-b6fa4a15aefa"
      },
      "outputs": [
        {
          "name": "stdout",
          "output_type": "stream",
          "text": [
            "4/4 [==============================] - 0s 2ms/step\n",
            "MSE: 1106.096\n"
          ]
        }
      ],
      "source": [
        "# Predições com a RNA:\n",
        "yhat = model.predict(x)\n",
        "# Transformação inversa:\n",
        "x_plot = scale_x.inverse_transform(x)\n",
        "y_plot = scale_y.inverse_transform(y)\n",
        "yhat_plot = scale_y.inverse_transform(yhat)\n",
        "# Erro medido no modelo:\n",
        "print('MSE: %.3f' % mean_squared_error(y_plot, yhat_plot))"
      ]
    },
    {
      "attachments": {},
      "cell_type": "markdown",
      "metadata": {
        "id": "Wt2C5iPHU7sf"
      },
      "source": [
        "Um plot da função original e da função recuperada pela rede também é útil para visualizar o resultado."
      ]
    },
    {
      "cell_type": "code",
      "execution_count": 10,
      "metadata": {
        "id": "JyG8pSzUSwUf",
        "outputId": "8f2eef9e-341f-4a99-fbb4-6e164472233c"
      },
      "outputs": [
        {
          "data": {
            "image/png": "[encoded data removed]",
            "text/plain": [
              "<Figure size 640x480 with 1 Axes>"
            ]
          },
          "metadata": {},
          "output_type": "display_data"
        }
      ],
      "source": [
        "\n",
        "# plot x vs y\n",
        "plt.plot(x_plot,y_plot, label='Valores reais')\n",
        "# plot x vs yhat\n",
        "plt.plot(x_plot,yhat_plot, '-.r',label='Valores preditos')\n",
        "plt.xlabel('Entrada (x)')\n",
        "plt.ylabel('Saída (y)')\n",
        "plt.legend()\n",
        "plt.show()"
      ]
    }
  ],
  "metadata": {
    "colab": {
      "provenance": []
    },
    "kernelspec": {
      "display_name": "Python 3",
      "language": "python",
      "name": "python3"
    },
    "language_info": {
      "codemirror_mode": {
        "name": "ipython",
        "version": 3
      },
      "file_extension": ".py",
      "mimetype": "text/x-python",
      "name": "python",
      "nbconvert_exporter": "python",
      "pygments_lexer": "ipython3",
      "version": "3.11.1"
    },
    "orig_nbformat": 4
  },
  "nbformat": 4,
  "nbformat_minor": 0
}
